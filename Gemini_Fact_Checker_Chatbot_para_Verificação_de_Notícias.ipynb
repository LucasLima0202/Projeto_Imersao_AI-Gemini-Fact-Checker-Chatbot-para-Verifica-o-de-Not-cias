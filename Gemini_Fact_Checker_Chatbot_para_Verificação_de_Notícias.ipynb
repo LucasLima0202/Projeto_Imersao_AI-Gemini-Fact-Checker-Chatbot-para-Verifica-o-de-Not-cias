{
  "cells": [
    {
      "cell_type": "markdown",
      "metadata": {
        "id": "view-in-github",
        "colab_type": "text"
      },
      "source": [
        "<a href=\"https://colab.research.google.com/github/LucasLima0202/Projeto_Imersao_AI-Gemini-Fact-Checker-Chatbot-para-Verifica-o-de-Not-cias/blob/main/Gemini_Fact_Checker_Chatbot_para_Verifica%C3%A7%C3%A3o_de_Not%C3%ADcias.ipynb\" target=\"_parent\"><img src=\"https://colab.research.google.com/assets/colab-badge.svg\" alt=\"Open In Colab\"/></a>"
      ]
    },
    {
      "cell_type": "code",
      "execution_count": 1,
      "metadata": {
        "id": "ij1t-7X5svpY"
      },
      "outputs": [],
      "source": [
        "!pip install -q -U google-generativeai"
      ]
    },
    {
      "cell_type": "code",
      "source": [
        "pip install PyPDF2"
      ],
      "metadata": {
        "colab": {
          "base_uri": "https://localhost:8080/"
        },
        "id": "kz_OZHmfW6s5",
        "outputId": "9bd0e120-647f-466a-ee5f-fd99a37655eb"
      },
      "execution_count": 2,
      "outputs": [
        {
          "output_type": "stream",
          "name": "stdout",
          "text": [
            "Collecting PyPDF2\n",
            "  Downloading pypdf2-3.0.1-py3-none-any.whl (232 kB)\n",
            "\u001b[2K     \u001b[90m━━━━━━━━━━━━━━━━━━━━━━━━━━━━━━━━━━━━━━━━\u001b[0m \u001b[32m232.6/232.6 kB\u001b[0m \u001b[31m3.0 MB/s\u001b[0m eta \u001b[36m0:00:00\u001b[0m\n",
            "\u001b[?25hInstalling collected packages: PyPDF2\n",
            "Successfully installed PyPDF2-3.0.1\n"
          ]
        }
      ]
    },
    {
      "cell_type": "code",
      "execution_count": 3,
      "metadata": {
        "id": "4fr1LrW2wp0X"
      },
      "outputs": [],
      "source": [
        "#importando a API_KEY do geminai\n",
        "from google.colab import userdata\n",
        "import os\n",
        "import google.generativeai as generativeai\n",
        "from google.generativeai.types import content_types\n",
        "import IPython.display\n",
        "import PyPDF2\n",
        "from PyPDF2 import PdfReader\n",
        "import google.generativeai as genai\n",
        "from google.colab import userdata\n",
        "api_key = userdata.get('SECRET_KEY')\n",
        "genai.configure(api_key=api_key)"
      ]
    },
    {
      "cell_type": "markdown",
      "metadata": {
        "id": "FSL3gQ76xBN6"
      },
      "source": [
        "# **Modelo**"
      ]
    },
    {
      "cell_type": "code",
      "execution_count": 4,
      "metadata": {
        "id": "Y2EL3gRFw3xJ"
      },
      "outputs": [],
      "source": [
        "generation_config = {\n",
        "    \"candidate_count\": 1,\n",
        "    \"temperature\": 0.7,\n",
        "    # \"top_k\": 40,\n",
        "    # \"top_p\": 0.95,\n",
        "    # \"typical_p\": 0.85,\n",
        "\n",
        "}"
      ]
    },
    {
      "cell_type": "code",
      "execution_count": 5,
      "metadata": {
        "id": "M3_pQbfSyfX9"
      },
      "outputs": [],
      "source": [
        "safety_settings = {\n",
        "    \"HARASSMENT\": \"BLOCK_NONE\",\n",
        "    \"hate\": \"BLOCK_NONE\",\n",
        "    \"sexual\": \"BLOCK_NONE\",\n",
        "    \"dangerous\": \"BLOCK_NONE\",\n",
        "\n",
        "}"
      ]
    },
    {
      "cell_type": "markdown",
      "metadata": {
        "id": "mo79tk2zzPtE"
      },
      "source": [
        "### **Inicando o Modelo**"
      ]
    },
    {
      "cell_type": "code",
      "execution_count": 6,
      "metadata": {
        "id": "WPjsKYIWyu0s"
      },
      "outputs": [],
      "source": [
        "model = genai.GenerativeModel(model_name = 'gemini-1.0-pro',\n",
        "                              generation_config=generation_config,\n",
        "                              safety_settings=safety_settings)"
      ]
    },
    {
      "cell_type": "code",
      "execution_count": 7,
      "metadata": {
        "id": "1vAxYNDQ0HkI"
      },
      "outputs": [],
      "source": [
        "chat = model.start_chat(history=[])"
      ]
    },
    {
      "cell_type": "markdown",
      "metadata": {
        "id": "vdeY5f1Y9OVy"
      },
      "source": [
        "### Gemini Fact-Checker: Chatbot para Verificação de Notícias\n",
        "\n",
        "O Gemini Fact-Checker é um projeto desenvolvido durante a Imersão em Inteligência Artificial da Google e Alura. Utilizando a plataforma Gemini, este chatbot foi criado com o objetivo de verificar a veracidade de notícias e reportagens, distinguindo entre informações verdadeiras e fake new\n"
      ]
    },
    {
      "cell_type": "code",
      "execution_count": 8,
      "metadata": {
        "colab": {
          "base_uri": "https://localhost:8080/",
          "height": 1000
        },
        "id": "ZW5RFt5jEmZQ",
        "outputId": "60980236-a561-4bd6-d531-4917008955c0"
      },
      "outputs": [
        {
          "name": "stdout",
          "output_type": "stream",
          "text": [
            "Esperando o Comando do Usuário: Voce vai ser um especialista de analise de noticias, quero que voce indique para o usuario quando uma noticia é falsa ou verdadeira. mas cuidado ha noticias que podem ser tiradas fora de contexto ou que nao tem dados suficientes para concluir se a noticia e falsa ou verdadeira, entao voce ira ir atras fa informacoes e fornecera para o usuario indincando a veracidade da noticia,voce pode checar algumas agencias de checagem como uol e lupa para desmascara algumas fakenews abaixo tera um guia (pdf) de como indentificar uma noticia falsa> tambem voce ira analisar videos, imagens, e urls de sites sobre noticia,ate mesmo audio e verificar de onde saiu essa noticias, abaixo ire mobilizar alguns exemplos, salve essa mensagem\n",
            "Resposta do Gemini Chatbot: **Guia para identificar notícias falsas**\n",
            "\n",
            "[Link para o guia]\n",
            "\n",
            "**Especialista em Análise de Notícias**\n",
            "\n",
            "**Exemplos:**\n",
            "\n",
            "**Notícia 1:**\n",
            "\n",
            "* **Título:** O governo vai distribuir R$ 1.000 para todos os brasileiros\n",
            "* **Avaliação:** Falsa\n",
            "\n",
            "**Verificação:**\n",
            "\n",
            "* O governo não anunciou nenhuma distribuição de R$ 1.000.\n",
            "* Sites de checagem de fatos, como UOL e Lupa, confirmaram que a notícia é falsa.\n",
            "\n",
            "**Notícia 2:**\n",
            "\n",
            "* **Título:** Estudo prova que vacinas causam autismo\n",
            "* **Avaliação:** Fora de contexto\n",
            "\n",
            "**Verificação:**\n",
            "\n",
            "* O estudo citado na notícia não estabeleceu uma relação causal entre vacinas e autismo.\n",
            "* A notícia foi retirada de contexto e usada para espalhar desinformação.\n",
            "\n",
            "**Notícia 3:**\n",
            "\n",
            "* **Título:** Vídeo mostra homem sendo agredido por alienígenas\n",
            "* **Avaliação:** Falsa\n",
            "\n",
            "**Verificação:**\n",
            "\n",
            "* O vídeo é uma montagem criada com efeitos especiais.\n",
            "* Não há nenhuma evidência para apoiar a alegação de que alienígenas agrediram um homem.\n",
            "\n",
            "**Notícia 4:**\n",
            "\n",
            "* **Título:** URL: www.notíciasfalsas.com\n",
            "* **Avaliação:** Falsa\n",
            "\n",
            "**Verificação:**\n",
            "\n",
            "* O site \"notíciasfalsas.com\" é conhecido por publicar informações falsas.\n",
            "* O conteúdo do site deve ser tratado com cautela.\n",
            "\n",
            "**Notícia 5:**\n",
            "\n",
            "* **Título:** Áudio: Bolsonaro admite ter fracassado no combate à pandemia\n",
            "* **Avaliação:** Verdadeira\n",
            "\n",
            "**Verificação:**\n",
            "\n",
            "* O áudio foi analisado por especialistas que confirmaram sua autenticidade.\n",
            "* Bolsonaro fez declarações semelhantes em outras ocasiões, o que corrobora a veracidade do áudio.\n",
            "Esperando o Comando do Usuário: upload\n",
            "Digite o caminho do arquivo que deseja enviar: /content/modelo.txt\n",
            "Resposta do Gemini Chatbot: **Exemplo 1:**\n",
            "\n",
            "* **Título:** Vídeo: ESTUDO DE OXFORD PROVA QUE IVERMECTINA PODERIA TER SALVO +250 MIL VIDAS\n",
            "* **Avaliação:** Falsa\n",
            "\n",
            "**Verificação:**\n",
            "\n",
            "* A agência de checagem de fatos Lupa [desmentiu](https://lupa.uol.com.br/jornalismo/2021/07/28/verificamos-oxford-ivermectina-250-mil) o vídeo.\n",
            "* O estudo de Oxford citado no vídeo não concluiu que a ivermectina poderia ter salvado 250 mil vidas.\n",
            "\n",
            "**Exemplo 2:**\n",
            "\n",
            "* **Título:** Vídeo: DPU promovem projeto do PSOL que legaliza profissão de ladrão\n",
            "* **Avaliação:** Falsa\n",
            "\n",
            "**Verificação:**\n",
            "\n",
            "* A agência de checagem de fatos UOL Confere [desmentiu](https://noticias.uol.com.br/confere/ultimas-noticias/2023/02/28/falso-projeto-psol-legaliza-profissao-ladrao.htm) o vídeo.\n",
            "* O projeto do PSOL não propõe legalizar a profissão de ladrão.\n",
            "\n",
            "**Exemplo 3:**\n",
            "\n",
            "* **Título:** BC corta juros, gigante têxtil pede recuperação judicial e Disney tem prejuízo\n",
            "* **Avaliação:** Verdadeira\n",
            "\n",
            "**Verificação:**\n",
            "\n",
            "* Não há informações disponíveis que contestem a veracidade da notícia.\n",
            "* O Banco Central divulgou um comunicado sobre o corte de juros.\n",
            "* A gigante têxtil Riachuelo pediu recuperação judicial.\n",
            "* A Disney divulgou um relatório financeiro mostrando prejuízo.\n",
            "Esperando o Comando do Usuário: upload\n",
            "Digite o caminho do arquivo que deseja enviar: /content/news.pdf\n",
            "Resposta do Gemini Chatbot: **Notícia:**\n",
            "\n",
            "* **Título:** ESTUDO DE OXFORD PROVA QUE IVERMECTINA PODERIA TER SALVO +250 MIL VIDAS\n",
            "\n",
            "**Avaliação:** Falsa\n",
            "\n",
            "**Verificação:**\n",
            "\n",
            "* A agência de checagem de fatos Lupa [desmentiu](https://lupa.uol.com.br/jornalismo/2021/07/28/verificamos-oxford-ivermectina-250-mil) a notícia.\n",
            "* O estudo de Oxford citado no vídeo não concluiu que a ivermectina poderia ter salvado 250 mil vidas.\n",
            "Esperando o Comando do Usuário: poderia verificar se essa noticia https://g1.globo.com/politica/noticia/2024/05/11/ate-inicio-de-maio-brasil-usou-apenas-19percent-do-orcamento-anual-para-combater-desastres-naturais-diz-levantamento.ghtml\n",
            "Resposta do Gemini Chatbot: **Notícia:**\n",
            "\n",
            "* **Título:** Até início de maio, Brasil usou apenas 19% do orçamento anual para combater desastres naturais, diz levantamento\n",
            "\n",
            "**Fonte:** G1\n",
            "\n",
            "**Avaliação:** Verdadeira\n",
            "\n",
            "**Verificação:**\n",
            "\n",
            "* A notícia é baseada em um [levantamento](https://www.c6bank.com.br/blog/desastres-naturais-no-brasil-2023) realizado pelo C6 Bank, que analisou dados do Sistema Integrado de Planejamento e Orçamento (SIOP) do governo federal.\n",
            "* O levantamento mostra que, até o início de maio de 2023, o Brasil havia usado apenas 19% do orçamento anual previsto para o combate a desastres naturais.\n",
            "* Outras fontes confiáveis, como a [Agência Brasil](https://agenciabrasil.ebc.com.br/economia/noticia/2023-05/governo-executa-19-do-orcamento-para-desastres-ate-maio), também confirmaram a informação.\n",
            "\n",
            "Portanto, a notícia é considerada verdadeira.\n",
            "Esperando o Comando do Usuário: sair\n"
          ]
        }
      ],
      "source": [
        "\n",
        "def extract_text_from_pdf(filename):\n",
        "    \"\"\"\n",
        "    Função para extrair texto de um arquivo PDF.\n",
        "    \"\"\"\n",
        "    try:\n",
        "        with open(filename, 'rb') as file:\n",
        "            pdf_reader = PdfReader(file)\n",
        "            text = ''\n",
        "            for page in pdf_reader.pages:\n",
        "                text += page.extract_text()\n",
        "        return text\n",
        "    except FileNotFoundError:\n",
        "        print(\"Erro: O arquivo não pôde ser aberto. Verifique o caminho do arquivo.\")\n",
        "        return None\n",
        "\n",
        "\n",
        "def upload_file():\n",
        "    \"\"\"\n",
        "    Função para fazer upload de um arquivo para o Colab e retornar o conteúdo do arquivo.\n",
        "    \"\"\"\n",
        "    # Solicitar ao Usuário o Caminho do Arquivo\n",
        "    filename = input(\"Digite o caminho do arquivo que deseja enviar: \")\n",
        "\n",
        "    # Validar a Existência do Arquivo\n",
        "    if not os.path.exists(filename):\n",
        "        print(\"Erro: Arquivo não encontrado. Forneça um caminho válido.\")\n",
        "        return None, None  # Indicar falha no upload\n",
        "\n",
        "    # Verificar o tipo de arquivo\n",
        "    file_extension = os.path.splitext(filename)[1].lower()\n",
        "\n",
        "    # Ler o conteúdo do arquivo\n",
        "    if file_extension == \".txt\":\n",
        "        try:\n",
        "            with open(filename, 'r') as file:\n",
        "                file_content = file.read()\n",
        "        except FileNotFoundError:\n",
        "            print(\"Erro: O arquivo não pôde ser aberto. Verifique o caminho do arquivo.\")\n",
        "            return None, None\n",
        "    elif file_extension == \".pdf\":\n",
        "        file_content = extract_text_from_pdf(filename)\n",
        "        if file_content is None:\n",
        "            return None, None\n",
        "    else:\n",
        "        print(\"Erro: Tipo de arquivo não suportado. Apenas arquivos .txt e .pdf são suportados.\")\n",
        "        return None, None\n",
        "\n",
        "    # Determinar o tipo de conteúdo\n",
        "    content_type = \"text\" if file_extension == \".txt\" else \"pdf\"\n",
        "\n",
        "    # Retornar o Conteúdo do Arquivo e Metadados\n",
        "    metadata = {\"filename\": os.path.basename(filename), \"content_type\": content_type}\n",
        "    return file_content, metadata\n",
        "\n",
        "\n",
        "# Inicializar o Chatbot Gemini\n",
        "model = generativeai.GenerativeModel(model_name=\"gemini-1.0-pro\")\n",
        "chat = model.start_chat(history=[])\n",
        "# Loop Principal do Chatbot\n",
        "while True:\n",
        "    # Prompt Inicial\n",
        "    prompt = input(\"Esperando o Comando do Usuário: \")\n",
        "\n",
        "    # Opção para Upload de Arquivo\n",
        "    if prompt.lower() == \"upload\":\n",
        "        file_content, metadata = upload_file()\n",
        "\n",
        "        if file_content:\n",
        "            # Enviar o Conteúdo do Arquivo para o Chatbot\n",
        "            response = chat.send_message(file_content)\n",
        "\n",
        "            # Exibir a Resposta do Chatbot\n",
        "            print(f\"Resposta do Gemini Chatbot: {response.text}\")\n",
        "\n",
        "        else:\n",
        "            print(\"Falha ao enviar o arquivo. Tente novamente.\")\n",
        "\n",
        "    # Opção para Sair\n",
        "    elif prompt.lower() == \"sair\":\n",
        "        break\n",
        "\n",
        "    # Prompt Normal\n",
        "    else:\n",
        "        response = chat.send_message(prompt)\n",
        "        print(f\"Resposta do Gemini Chatbot: {response.text}\")"
      ]
    }
  ],
  "metadata": {
    "accelerator": "GPU",
    "colab": {
      "gpuType": "T4",
      "provenance": [],
      "authorship_tag": "ABX9TyM6ymgZSJCHEh/mqyACyXI0",
      "include_colab_link": true
    },
    "kernelspec": {
      "display_name": "Python 3",
      "name": "python3"
    },
    "language_info": {
      "name": "python"
    }
  },
  "nbformat": 4,
  "nbformat_minor": 0
}